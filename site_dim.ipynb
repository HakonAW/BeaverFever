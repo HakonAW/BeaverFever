{
 "cells": [
  {
   "cell_type": "code",
   "execution_count": null,
   "id": "5c98102d",
   "metadata": {},
   "outputs": [],
   "source": [
    "### CREATE A TABLE SITECODE"
   ]
  },
  {
   "cell_type": "code",
   "execution_count": null,
   "id": "ad204041",
   "metadata": {},
   "outputs": [],
   "source": [
    "import pyodbc\n",
    "import pandas as pd\n",
    "conn = pyodbc.connect(r'Driver={Microsoft Access Driver (*.mdb, *.accdb)};DBQ=C:\\Users\\Maria Sirevaag\\Documents\\Natura2000\\Natura2000_end2020.mdb;')\n",
    "cursor = conn.cursor()\n",
    "query=cursor.execute('select COUNTRY_CODE, SITECODE, SITETYPE,SITENAME,DATE_UPDATE FROM NATURA2000SITES')\n",
    "\n",
    "\n",
    "rows=  cursor.fetchall()\n",
    "#for row in cursor.fetchall():\n",
    " #   print (row)\n",
    "\n",
    "    \n",
    "    \n",
    "#dfsite = pd.DataFrame(columns=[\"COUNTRY_CODE\", \"SITECODE\", \"SITETYPE\",\"SITENAME\",\"DATE_UPDATE\"])\n",
    "\n",
    "#for row in cursor.fetchall():\n",
    " #   this_column = df.columns[row]\n",
    "  #  df[this_column] = [row, row+1]"
   ]
  },
  {
   "cell_type": "code",
   "execution_count": null,
   "id": "a1fd0a6c",
   "metadata": {},
   "outputs": [],
   "source": [
    "import pyodbc\n",
    "import pandas as pd\n",
    "conn = pyodbc.connect(r'Driver={Microsoft Access Driver (*.mdb, *.accdb)};DBQ=C:\\Users\\Maria Sirevaag\\Documents\\Natura2000\\Natura2000_end2020.mdb;')\n",
    "cursor = conn.cursor()\n",
    "query=cursor.execute('select COUNTRY_CODE, SITECODE, SITETYPE,SITENAME,DATE_UPDATE FROM NATURA2000SITES')\n",
    "\n",
    "\n",
    "rows=  cursor.fetchall()\n",
    "#for row in cursor.fetchall():\n",
    " #   print (row)\n",
    "\n",
    "    \n",
    "    \n",
    "#dfsite = pd.DataFrame(columns=[\"COUNTRY_CODE\", \"SITECODE\", \"SITETYPE\",\"SITENAME\",\"DATE_UPDATE\"])\n",
    "\n",
    "#for row in cursor.fetchall():\n",
    " #   this_column = df.columns[row]\n",
    "  #  df[this_column] = [row, row+1]"
   ]
  },
  {
   "cell_type": "code",
   "execution_count": null,
   "id": "fdae48cd",
   "metadata": {},
   "outputs": [],
   "source": [
    "dfsite = pd.DataFrame (rows)\n",
    "print (dfsite)"
   ]
  },
  {
   "cell_type": "code",
   "execution_count": null,
   "id": "fb4177e2",
   "metadata": {},
   "outputs": [],
   "source": [
    "dfsite.head(10)"
   ]
  },
  {
   "cell_type": "code",
   "execution_count": null,
   "id": "20fcaa7a",
   "metadata": {},
   "outputs": [],
   "source": [
    "dfsite= pd.DataFrame (rows)\n",
    "dfsite.info"
   ]
  },
  {
   "cell_type": "code",
   "execution_count": null,
   "id": "3402fe3b",
   "metadata": {},
   "outputs": [],
   "source": [
    "#dfsite[['COUNTRY_CODE', 'SITECODE', 'SITETYPE','SITENAME','DATE_UPDATE']] = dfsite[0].str.split(',',expand=True)\n",
    "\n",
    "print(dfsite[0].str.split(','))\n"
   ]
  },
  {
   "cell_type": "code",
   "execution_count": null,
   "id": "86f91a17",
   "metadata": {},
   "outputs": [],
   "source": [
    "dfsite = pd.DataFrame (dfsite, columns = ['COUNTRY_CODE', 'SITECODE', 'SITETYPE','SITENAME','DATE_UPDATE'])"
   ]
  },
  {
   "cell_type": "code",
   "execution_count": null,
   "id": "2e12b738",
   "metadata": {},
   "outputs": [],
   "source": [
    "dfsite"
   ]
  },
  {
   "cell_type": "code",
   "execution_count": null,
   "id": "05507380",
   "metadata": {},
   "outputs": [],
   "source": []
  }
 ],
 "metadata": {
  "kernelspec": {
   "display_name": "Python 3 (ipykernel)",
   "language": "python",
   "name": "python3"
  },
  "language_info": {
   "codemirror_mode": {
    "name": "ipython",
    "version": 3
   },
   "file_extension": ".py",
   "mimetype": "text/x-python",
   "name": "python",
   "nbconvert_exporter": "python",
   "pygments_lexer": "ipython3",
   "version": "3.9.7"
  }
 },
 "nbformat": 4,
 "nbformat_minor": 5
}
