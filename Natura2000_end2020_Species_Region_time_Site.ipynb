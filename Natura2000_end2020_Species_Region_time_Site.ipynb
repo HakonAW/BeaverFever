{
 "cells": [
  {
   "cell_type": "code",
   "execution_count": null,
   "id": "9cd18c39",
   "metadata": {
    "scrolled": true
   },
   "outputs": [],
   "source": [
    "import pandas as pd\n",
    "import pyodbc\n",
    "dfspecies= pd.read_csv(\"C:/Users/Maria Sirevaag/Documents/Pythonprojects/Natura2000_end2020_csv/Natura2000_end2020_SPECIES.csv\", header= 0, )\n",
    "\n",
    "print(dfspecies)\n"
   ]
  },
  {
   "cell_type": "markdown",
   "id": "b797f4f3",
   "metadata": {},
   "source": [
    "### Create a Database in Sql Server\n",
    "NAMED: Natura2000"
   ]
  },
  {
   "cell_type": "markdown",
   "id": "63e0e919",
   "metadata": {},
   "source": [
    "## Create Dim_Species"
   ]
  },
  {
   "cell_type": "code",
   "execution_count": null,
   "id": "46ba3088",
   "metadata": {},
   "outputs": [],
   "source": [
    "species_toclean= dfspecies.iloc[:, [2,3,5]]\n",
    "\n",
    "#species_toclean = species_toclean.dropna()  #delete all rows with nan\n",
    "species_toclean"
   ]
  },
  {
   "cell_type": "code",
   "execution_count": null,
   "id": "586e7b2b",
   "metadata": {
    "scrolled": true
   },
   "outputs": [],
   "source": [
    "species_toclean=species_toclean.drop_duplicates() #delete all rows with duplicates\n",
    "\n",
    "species_toclean['SpeciesId'] =range(1, len(species_toclean) + 1)"
   ]
  },
  {
   "cell_type": "code",
   "execution_count": null,
   "id": "c8d9737b",
   "metadata": {},
   "outputs": [],
   "source": [
    "species_toclean[['Genus','Specie']] = species_toclean['SPECIESNAME'].str.split(' ',1,expand=True,)\n",
    "species_toclean = species_toclean.rename(columns = {'SPECIESCODE': 'SpeciesCode'}, inplace = False)\n",
    "species_toclean.drop('Specie', inplace=True, axis=1)\n",
    "species_toclean = species_toclean.rename(columns = {'SPGROUP': 'Class'}, inplace = False)\n",
    "species_toclean = species_toclean.rename(columns = {'SPECIESNAME': 'SpeciesName'}, inplace = False)\n",
    "species_dim= species_toclean[['SpeciesId','SpeciesName','Genus','SpeciesCode','Class']]\n",
    "species_dim\n"
   ]
  },
  {
   "cell_type": "code",
   "execution_count": null,
   "id": "7c6ef026",
   "metadata": {},
   "outputs": [],
   "source": [
    "conn = pyodbc.connect('Driver={SQL Server};'\n",
    "                      'Server=DESKTOP-9SHPBD0;'\n",
    "                      'Database=Natura2000;'\n",
    "                      'Trusted_Connection=yes;'\n",
    "                     )\n",
    "\n",
    "\n",
    "cursor = conn.cursor()\n"
   ]
  },
  {
   "cell_type": "code",
   "execution_count": null,
   "id": "caede1f4",
   "metadata": {},
   "outputs": [],
   "source": [
    "cursor.execute('''\n",
    "\t\tCREATE TABLE Dim_species (\n",
    "\t\t\tSpeciesID int primary key,\n",
    "\t\t\tSpeciesName varchar(30),\n",
    "            Genus varchar(30),\n",
    "            SpecieCode varchar(5),\n",
    "            Class varchar(30)\n",
    "\t\t\t\n",
    "\t\t\t)\n",
    "               ''')\n",
    "\n",
    "conn.commit()"
   ]
  },
  {
   "cell_type": "code",
   "execution_count": null,
   "id": "1948508c",
   "metadata": {},
   "outputs": [],
   "source": [
    "from sqlalchemy import create_engine\n",
    "import urllib\n",
    "import pyodbc\n",
    "\n",
    "quoted = urllib.parse.quote_plus(\"DRIVER={SQL Server};SERVER=DESKTOP-9SHPBD0;DATABASE=Natura2000\")\n",
    "engine = create_engine('mssql+pyodbc:///?odbc_connect={}'.format(quoted))\n",
    "\n",
    "species_dim.to_sql('Dim_species', schema='dbo', con = engine, chunksize=200, method='multi', index=False, if_exists='replace')"
   ]
  },
  {
   "cell_type": "markdown",
   "id": "99510850",
   "metadata": {},
   "source": [
    "## create a Region dimension"
   ]
  },
  {
   "cell_type": "code",
   "execution_count": null,
   "id": "f1554e85",
   "metadata": {},
   "outputs": [],
   "source": [
    "region_toclean= dfspecies.iloc[:, [0,]]\n",
    "region_toclean=region_toclean.drop_duplicates()\n",
    "region_toclean = region_toclean.rename(columns = {'COUNTRY_CODE': 'Code'}, inplace = False)"
   ]
  },
  {
   "cell_type": "code",
   "execution_count": null,
   "id": "36f3deaa",
   "metadata": {
    "scrolled": false
   },
   "outputs": [],
   "source": [
    "\n",
    "region_toclean\n",
    "#convert first or second to str or int\n",
    "region_toclean['Code'] = region_toclean['Code'].astype(str)"
   ]
  },
  {
   "cell_type": "code",
   "execution_count": null,
   "id": "74e669ab",
   "metadata": {},
   "outputs": [],
   "source": [
    "dfcountries= pd.read_csv(r\"C:/Users/Maria Sirevaag/Documents/Pythonprojects/countries_codes_and_coordinates.csv\", header= 0, )\n",
    "dfcountries= dfcountries.iloc[:, [0,1,4,5]]\n",
    "\n",
    "dfcountries = dfcountries.rename(columns = {'Alpha-2 code': 'Code'}, inplace = False)\n",
    "dfcountries = dfcountries.rename(columns = {'Latitude (average)': 'Latitude'}, inplace = False)\n",
    "dfcountries = dfcountries.rename(columns = {'Longitude (average)': 'Longitude'}, inplace = False)\n",
    "dfcountries=dfcountries.drop_duplicates() #delete all rows with duplicates"
   ]
  },
  {
   "cell_type": "code",
   "execution_count": null,
   "id": "bc4c234f",
   "metadata": {},
   "outputs": [],
   "source": [
    "def trim_all_columns(df):  #    Trim whitespace from ends of each value across all series in dataframe\n",
    "  \n",
    "    trim_strings = lambda x: x.strip() if isinstance(x, str) else x\n",
    "    return df.applymap(trim_strings)\n",
    "\n",
    "# trimming whitespace from data elements\n",
    "dfcountriest = pd.DataFrame(dfcountries)\n",
    "dfcountriest = trim_all_columns(dfcountries)\n",
    "print(dfcountries)\n"
   ]
  },
  {
   "cell_type": "code",
   "execution_count": null,
   "id": "35e547ea",
   "metadata": {},
   "outputs": [],
   "source": [
    "def trim_all_columns(df):#    Trim whitespace from ends of each value across all series in dataframe\n",
    "    trim_strings = lambda x: x.strip() if isinstance(x, str) else x\n",
    "    return df.applymap(trim_strings)\n",
    "\n",
    "\n",
    "# trimming whitespace from data elements\n",
    "region_tocleant = pd.DataFrame(region_toclean)\n",
    "region_tocleant = trim_all_columns(region_toclean)\n",
    "print(region_tocleant)\n"
   ]
  },
  {
   "cell_type": "code",
   "execution_count": null,
   "id": "8dc8bc63",
   "metadata": {},
   "outputs": [],
   "source": [
    "result_df = pd.merge(region_tocleant, dfcountriest, on = \"Code\",  how = \"inner\")"
   ]
  },
  {
   "cell_type": "code",
   "execution_count": null,
   "id": "186b024e",
   "metadata": {},
   "outputs": [],
   "source": [
    "result_df\n"
   ]
  },
  {
   "cell_type": "code",
   "execution_count": null,
   "id": "88492f2d",
   "metadata": {},
   "outputs": [],
   "source": [
    "conn = pyodbc.connect('Driver={SQL Server};'\n",
    "                      'Server=DESKTOP-9SHPBD0;'\n",
    "                      'Database=Natura2000;'\n",
    "                      'Trusted_Connection=yes;'\n",
    "                     )\n",
    "\n",
    "\n",
    "cursor = conn.cursor()\n",
    "\n",
    "\n"
   ]
  },
  {
   "cell_type": "code",
   "execution_count": null,
   "id": "4c979ea3",
   "metadata": {},
   "outputs": [],
   "source": [
    "cursor.execute('''\n",
    "\t\tCREATE TABLE Dim_Geography (\n",
    "\t\t\tCode nvarchar(5),\n",
    "            Country nvarchar(30),\n",
    "            Latitude nvarchar (30),\n",
    "            Longitude nvarchar(30)\n",
    "\t\t\t)\n",
    "               ''')\n",
    "\n",
    "conn.commit()\n"
   ]
  },
  {
   "cell_type": "code",
   "execution_count": null,
   "id": "c6edca03",
   "metadata": {},
   "outputs": [],
   "source": [
    "from sqlalchemy import create_engine\n",
    "import urllib\n",
    "import pyodbc\n",
    "\n",
    "quoted = urllib.parse.quote_plus(\"DRIVER={SQL Server};SERVER=DESKTOP-9SHPBD0;DATABASE=Natura2000\")\n",
    "engine = create_engine('mssql+pyodbc:///?odbc_connect={}'.format(quoted))\n",
    "\n",
    "result_df.to_sql('Dim_Geography', schema='dbo', con = engine, chunksize=200, method='multi', index=False, if_exists='replace')"
   ]
  },
  {
   "cell_type": "markdown",
   "id": "a1820c39",
   "metadata": {},
   "source": [
    "## Create a timeDimension Table\n"
   ]
  },
  {
   "cell_type": "code",
   "execution_count": null,
   "id": "396d3893",
   "metadata": {},
   "outputs": [],
   "source": [
    "Time=pd.date_range('2006-01-01','2020-12-31', \n",
    "              freq='MS').strftime(\"%Y-%b\")\n",
    "\n",
    "Time_dim= pd.DataFrame(Time)\n",
    "\n",
    "Time_dim[['Year','month']] = Time_dim[0].str.split('-',expand=True)\n",
    "Time_dim= Time_dim.rename(columns = {Time_dim.columns[0]: 'TimeId'}, inplace = False)\n",
    "\n",
    "\n",
    "\n",
    "Time_dim\n"
   ]
  },
  {
   "cell_type": "code",
   "execution_count": null,
   "id": "9c6c07a9",
   "metadata": {},
   "outputs": [],
   "source": [
    " \n",
    "conn = pyodbc.connect('Driver={SQL Server};'\n",
    "                      'Server=DESKTOP-9SHPBD0;'\n",
    "                      'Database=Natura2000;'\n",
    "                      'Trusted_Connection=yes;'\n",
    "                     )\n",
    "\n",
    "\n",
    "cursor = conn.cursor()\n",
    "\n",
    "\n"
   ]
  },
  {
   "cell_type": "code",
   "execution_count": null,
   "id": "0bad9dc4",
   "metadata": {},
   "outputs": [],
   "source": [
    "cursor.execute('''\n",
    "\t\tCREATE TABLE Time_dim (\n",
    "            TimeId varchar (20),\n",
    "\t\t\tYear varchar(10),\n",
    "            Month nvarchar(5)\n",
    "\t\t\t)\n",
    "               ''')\n",
    "\n",
    "conn.commit()\n"
   ]
  },
  {
   "cell_type": "code",
   "execution_count": null,
   "id": "be13dcb1",
   "metadata": {},
   "outputs": [],
   "source": [
    "from sqlalchemy import create_engine\n",
    "import urllib\n",
    "import pyodbc\n",
    "\n",
    "quoted = urllib.parse.quote_plus(\"DRIVER={SQL Server};SERVER=DESKTOP-9SHPBD0;DATABASE=Natura2000\")\n",
    "engine = create_engine('mssql+pyodbc:///?odbc_connect={}'.format(quoted))\n",
    "\n",
    "Time_dim.to_sql('Time_dim', schema='dbo', con = engine, chunksize=200, method='multi', index=False, if_exists='replace')"
   ]
  },
  {
   "cell_type": "markdown",
   "id": "62e7ec5d",
   "metadata": {},
   "source": [
    "### CREATE A TABLE SITECODE"
   ]
  },
  {
   "cell_type": "code",
   "execution_count": null,
   "id": "0cd158c1",
   "metadata": {},
   "outputs": [],
   "source": [
    "import pyodbc\n",
    "cnxn = pyodbc.connect(r'Driver={Microsoft Access Driver (*.mdb, *.accdb)};DBQ=C:\\Users\\Maria Sirevaag\\Documents\\Natura2000\\Natura2000_end2020.mdb;')\n",
    "query = \"select COUNTRY_CODE, SITECODE, SITETYPE,SITENAME,DATE_UPDATE,AREAHA, LONGITUDE, LATITUDE FROM NATURA2000SITES\"\n",
    "site_toclean = pd.read_sql(query, cnxn)\n",
    "cnxn.close()\n",
    "\n",
    "site_toclean\n"
   ]
  },
  {
   "cell_type": "code",
   "execution_count": null,
   "id": "2642a49c",
   "metadata": {},
   "outputs": [],
   "source": [
    "\n",
    "site_toclean[['DateUpd','time']] = site_toclean['DATE_UPDATE'].astype(str)    .str.split(' ',expand=True)\n",
    "site_toclean.drop('DATE_UPDATE', inplace=True, axis=1)\n",
    "site_toclean.drop('time', inplace=True, axis=1)\n",
    "site_toclean = site_toclean.rename(columns = {'COUNTRY_CODE': 'CountryCode'}, inplace = False)\n",
    "site_toclean = site_toclean.rename(columns = {'SITECODE': 'SiteCode'}, inplace = False)\n",
    "site_toclean = site_toclean.rename(columns = {'SITETYPE': 'SiteType'}, inplace = False)\n",
    "site_toclean = site_toclean.rename(columns = {'SITENAME': 'SiteName'}, inplace = False)\n",
    "site_toclean = site_toclean.rename(columns = {'AREAHA': 'AreaHa'}, inplace = False)\n",
    "site_toclean = site_toclean.rename(columns = {'LONGITUDE': 'Longitude'}, inplace = False)\n",
    "site_toclean = site_toclean.rename(columns = {'LATITUDE': 'Latitude'}, inplace = False)\n",
    "\n"
   ]
  },
  {
   "cell_type": "code",
   "execution_count": null,
   "id": "4e0f4435",
   "metadata": {},
   "outputs": [],
   "source": [
    "\n",
    "site_dim= site_toclean[['SiteCode','SiteName','SiteType','CountryCode','AreaHa','Longitude','Latitude','DateUpd']]\n",
    "\n",
    "site_dim"
   ]
  },
  {
   "cell_type": "code",
   "execution_count": null,
   "id": "11e14350",
   "metadata": {},
   "outputs": [],
   "source": [
    "\n",
    "\n",
    "cursor.execute('''\n",
    "\t\tCREATE TABLE Dim_site (\n",
    "\t\t\tSiteCode varchar(10) primary key,\n",
    "            SiteName varchar(50),\n",
    "            SiteType varchar(10),\n",
    "            CountryCode varchar(10),\n",
    "            AreaHa varchar(10),\n",
    "            Longitude Decimal (10,8),\n",
    "            Latitude Decimal (10,8),\n",
    "            DateUpd date\n",
    "\t\t\t)\n",
    "               ''')\n",
    "\n",
    "conn.commit()\n",
    "\n",
    "\n"
   ]
  },
  {
   "cell_type": "code",
   "execution_count": null,
   "id": "a1464914",
   "metadata": {},
   "outputs": [],
   "source": [
    "from sqlalchemy import create_engine\n",
    "import urllib\n",
    "import pyodbc\n",
    "\n",
    "quoted = urllib.parse.quote_plus(\"DRIVER={SQL Server};SERVER=DESKTOP-9SHPBD0;DATABASE=Natura2000\")\n",
    "engine = create_engine('mssql+pyodbc:///?odbc_connect={}'.format(quoted))\n",
    "\n",
    "site_dim.to_sql('Dim_site', schema='dbo', con = engine, chunksize=200, method='multi', index=False, if_exists='replace')"
   ]
  },
  {
   "cell_type": "code",
   "execution_count": null,
   "id": "e28e6764",
   "metadata": {},
   "outputs": [],
   "source": []
  }
 ],
 "metadata": {
  "kernelspec": {
   "display_name": "Python 3 (ipykernel)",
   "language": "python",
   "name": "python3"
  },
  "language_info": {
   "codemirror_mode": {
    "name": "ipython",
    "version": 3
   },
   "file_extension": ".py",
   "mimetype": "text/x-python",
   "name": "python",
   "nbconvert_exporter": "python",
   "pygments_lexer": "ipython3",
   "version": "3.9.7"
  }
 },
 "nbformat": 4,
 "nbformat_minor": 5
}
